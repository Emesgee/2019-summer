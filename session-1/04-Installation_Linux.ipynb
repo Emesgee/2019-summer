{
 "cells": [
  {
   "cell_type": "markdown",
   "metadata": {},
   "source": [
    "# Installation Guide for Linux\n",
    "\n",
    "This guide explains how to install all the tools needed for the seminar.\n",
    "\n",
    "You will install:\n",
    "  \n",
    "  * The Python interpreter (the \"programming language\") via a distribution called _Anaconda_\n",
    "  * A code editor\n",
    "\n",
    "To make this easy for you we will install a number of tools and some of them depend on the previous tools installed so follow the order listed and grab a TA or lecturer if the test seems to throw up something weird."
   ]
  },
  {
   "cell_type": "markdown",
   "metadata": {},
   "source": [
    "## 1 - Installing Anaconda from USB key or Website.\n",
    "\n",
    "If you are in class and have access to one of the distributed USB keys, then copy the folder named `Linux` to your computer. Subsequently, pass the USB key on to one of your fellow students or an instructor **before** proceeding.  \n",
    "\n",
    "If you are performing the installation at home instead of at ITU navigate to https://www.anaconda.com/distribution/#linux and download Anaconda with Python 3.7 by clicking the big green `Download` button. (The direct download link is: https://repo.anaconda.com/archive/Anaconda3-2019.03-Linux-x86_64.sh).\n",
    "\n",
    "Now, open a terminal and change the directory to where you have the installer `Anaconda3-2019.03-Linux-x86_64.sh` located and run the installer.\n",
    "\n",
    "```bash\n",
    "$ cd $HOME/Downloads\n",
    "$ bash Anaconda3-2019.03-Linux-x86_64.sh\n",
    "```\n",
    "\n",
    "**OBS**: you can stop reading the presented license by hitting `q` and `yes` subsequently.\n",
    "\n",
    "For detailed installation instructions, navigate to http://docs.anaconda.com/anaconda/install/linux/ and follow the instructions from **step 3**.  \n",
    "\n",
    "Do **not** install PyCharm, we will not need it in this seminar and you can install it later in case you require it for your studies/work.\n",
    "\n",
    "### Test Your Python Installation.  \n",
    "\n",
    "Open a terminal: \n",
    "\n",
    "  * either open the search bar, type `terminal`, and press `Enter`\n",
    "  * or click the icon if you have some kind of application dock \n",
    "  * or use the keyboard shortcut to launch a terminal \n",
    "\n",
    "![terminal.png](images/terminal.png)\n",
    "\n",
    "in the terminal run the following:\n",
    "\n",
    "```bash \n",
    "$ python --version\n",
    "```\n",
    "\n",
    "which should print `Python 3.7.3`."
   ]
  },
  {
   "cell_type": "markdown",
   "metadata": {},
   "source": [
    "## 2 - Installing the Mu-Editor\n",
    "\n",
    "\n",
    "In the terminal run the following command:\n",
    "\n",
    "```bash\n",
    "$ pip install mu-editor\n",
    "```\n",
    "\n",
    "After the installation completes try if you can run the editor. Enter the following in the terminal:\n",
    "\n",
    "```bash\n",
    "$ mu-editor\n",
    "```\n",
    "\n",
    "That should open a window as illustrated below.\n",
    "\n",
    "![](images/mu_linux.png)\n",
    "\n",
    "For now, just close the editor. We will use it in the next session."
   ]
  },
  {
   "cell_type": "markdown",
   "metadata": {},
   "source": [
    "## Congratulations, you are done installing everything we need for now!"
   ]
  }
 ],
 "metadata": {
  "kernelspec": {
   "display_name": "Python 3",
   "language": "python",
   "name": "python3"
  },
  "language_info": {
   "codemirror_mode": {
    "name": "ipython",
    "version": 3
   },
   "file_extension": ".py",
   "mimetype": "text/x-python",
   "name": "python",
   "nbconvert_exporter": "python",
   "pygments_lexer": "ipython3",
   "version": "3.7.1"
  }
 },
 "nbformat": 4,
 "nbformat_minor": 2
}
