{
 "cells": [
  {
   "cell_type": "markdown",
   "metadata": {},
   "source": [
    "# Installation Guide MacOS\n",
    "\n",
    "\n",
    "This guide explains how to install all the tools needed for the seminar.\n",
    "\n",
    "You will install:\n",
    "  \n",
    "  * The Python interpreter (the \"programming language\") via a distribution called _Anaconda_\n",
    "  * A code editor\n",
    "\n",
    "To make this easy for you we will install a number of tools and some of them depend on the previous tools installed so follow the order listed and grab a TA or lecturer if the test seems to throw up something weird. "
   ]
  },
  {
   "cell_type": "markdown",
   "metadata": {
    "collapsed": true
   },
   "source": [
    "## 1 - Installing Anaconda from USB key or Website.\n",
    "\n",
    "If you are in class and have access to one of the distributed USB keys, then copy the folder named `MacOS` to your computer. Subsequently, pass the USB key on to one of your fellow students or an instructor **before** proceeding.  \n",
    "\n",
    "If you are performing the installation at home instead of at ITU navigate to https://www.anaconda.com/distribution/#macos and download Anaconda with Python 3.7 by clicking the big green `Download` button. (The direct download link is: https://repo.anaconda.com/archive/Anaconda3-2019.03-MacOSX-x86_64.pkg).\n",
    "\n",
    "Run the installer `Anaconda3-2019.03-MacOSX-x86_64.pkg` either from the `MacOS` folder in case you had access to a USB key or from the `Downloads` folder in case you are working from home.\n",
    "\n",
    "For detailed installation instructions, navigate to https://docs.anaconda.com/anaconda/install/mac-os#macos-graphical-install and follow the instructions from **step 3**.  \n",
    "\n",
    "Do **not** install PyCharm, we will not need it in this seminar and you can install it later in case you require it for your studies/work\n",
    "\n",
    "\n",
    "### Test Your Python Installation.\n",
    "\n",
    "Open a terminal: \n",
    "\n",
    "  * either open Spotlight by pressing `command + space`, type `terminal`, and press `Enter`\n",
    "  * or click the icon if it is present on your Dock \n",
    "\n",
    "<img src=\"images/Mac_terminal.png\" style=\"width: 70%\"/>\n",
    "\n",
    "\n",
    "Run the following command:\n",
    "\n",
    "```bash \n",
    "$ python --version\n",
    "```\n",
    "\n",
    "which should print `Python 3.7.3`."
   ]
  },
  {
   "cell_type": "markdown",
   "metadata": {},
   "source": [
    "## 2 - Installing the Mu-Editor\n",
    "\n",
    "\n",
    "In the terminal run the following command:\n",
    "\n",
    "```bash\n",
    "$ pip install mu-editor\n",
    "```\n",
    "\n",
    "After the installation completes try if you can run the editor. Enter the following in the terminal:\n",
    "\n",
    "```bash\n",
    "$ mu-editor\n",
    "```\n",
    "\n",
    "That should open a window as illustrated below.\n",
    "\n",
    "![](images/mu_macos.png)\n",
    "\n",
    "For now, just close the editor. We will use it in the next session."
   ]
  },
  {
   "cell_type": "markdown",
   "metadata": {},
   "source": [
    "## Congratulations, you are done installing everything we need for now!"
   ]
  }
 ],
 "metadata": {
  "kernelspec": {
   "display_name": "Python 3",
   "language": "python",
   "name": "python3"
  },
  "language_info": {
   "codemirror_mode": {
    "name": "ipython",
    "version": 3
   },
   "file_extension": ".py",
   "mimetype": "text/x-python",
   "name": "python",
   "nbconvert_exporter": "python",
   "pygments_lexer": "ipython3",
   "version": "3.7.1"
  },
  "latex_envs": {
   "LaTeX_envs_menu_present": true,
   "autoclose": false,
   "autocomplete": true,
   "bibliofile": "biblio.bib",
   "cite_by": "apalike",
   "current_citInitial": 1,
   "eqLabelWithNumbers": true,
   "eqNumInitial": 1,
   "hotkeys": {
    "equation": "Ctrl-E",
    "itemize": "Ctrl-I"
   },
   "labels_anchors": false,
   "latex_user_defs": false,
   "report_style_numbering": false,
   "user_envs_cfg": false
  }
 },
 "nbformat": 4,
 "nbformat_minor": 2
}
