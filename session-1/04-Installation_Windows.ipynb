{
 "cells": [
  {
   "cell_type": "markdown",
   "metadata": {},
   "source": [
    "# Installation Guide for Windows\n",
    "\n",
    "This guide explains how to install all the tools needed for the seminar.\n",
    "\n",
    "You will install:\n",
    "  \n",
    "  * The Python interpreter (the \"programming language\") via a distribution called _Anaconda_\n",
    "  * A code editor\n",
    "\n",
    "To make this easy for you we will install a number of tools and some of them depend on the previous tools installed so follow the order listed and grab a TA or lecturer if the test seems to throw up something weird."
   ]
  },
  {
   "cell_type": "markdown",
   "metadata": {},
   "source": [
    "## 1 - Installing Anaconda from USB key or Website.\n",
    "\n",
    "If you are in class and have access to one of the distributed USB keys, then copy the folder named `MacOS` to your computer. Subsequently, pass the USB key on to one of your fellow students or an instructor **before** proceeding.  \n",
    "\n",
    "If you are performing the installation at home instead of at ITU navigate to https://www.anaconda.com/distribution/#windows and download Anaconda with Python 3.7 by clicking the big green `Download` button. (The direct download link is: https://repo.anaconda.com/archive/Anaconda3-2019.03-Windows-x86_64.exe).\n",
    "\n",
    "Run the installer `Anaconda3-2019.03-Windows-x86_64.exe` either from the `Windows` folder in case you had access to a USB key or from the `Downloads` folder in case you are working from home.\n",
    "\n",
    "For detailed installation instructions, navigate to http://docs.anaconda.com/anaconda/install/windows/ and follow the instructions from **step 4**.\n",
    "\n",
    "**OBS**: Install Anaconda with the option `Just Me (recommended)`\n",
    "\n",
    "![](images/win_install1.png)\n",
    "\n",
    "Do **not** install PyCharm we will not need it in this seminar and you can install it later in case you require it for your studies/work\n",
    "\n",
    "\n",
    "### Test Your Python Installation.  \n",
    "\n",
    "**OBS** From now on, on Windows whenever we talk about the command prompt or the terminal we mean the program that is called `Anaconda Prompt`. You start it by clicking the magnifying glass in the bottom left and start typing `Anaconda Prompt`.\n",
    "\n",
    "![](images/win_conda_prompt.png)\n",
    "\n",
    "In that command prompt run the following:\n",
    "\n",
    "```bash \n",
    "python --version\n",
    "```\n",
    "\n",
    "which should print `Python 3.7.3`."
   ]
  },
  {
   "cell_type": "markdown",
   "metadata": {},
   "source": [
    "## 2 - Installing the Mu-Editor\n",
    "\n",
    "\n",
    "In the terminal run the following command:\n",
    "\n",
    "```bash\n",
    "pip install mu-editor\n",
    "```\n",
    "\n",
    "After the installation completes try if you can run the editor. Enter the following in the terminal:\n",
    "\n",
    "```bash\n",
    "mu-editor\n",
    "```\n",
    "\n",
    "That should open a window as illustrated below.\n",
    "\n",
    "![](images/mu_windows.png)\n",
    "\n",
    "For now, just close the editor. We will use it in the next session."
   ]
  },
  {
   "cell_type": "markdown",
   "metadata": {},
   "source": [
    "## Congratulations, you are done installing everything we need for now!"
   ]
  }
 ],
 "metadata": {
  "kernelspec": {
   "display_name": "Python 3",
   "language": "python",
   "name": "python3"
  },
  "language_info": {
   "codemirror_mode": {
    "name": "ipython",
    "version": 3
   },
   "file_extension": ".py",
   "mimetype": "text/x-python",
   "name": "python",
   "nbconvert_exporter": "python",
   "pygments_lexer": "ipython3",
   "version": "3.7.3"
  }
 },
 "nbformat": 4,
 "nbformat_minor": 2
}
